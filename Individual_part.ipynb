{
 "cells": [
  {
   "cell_type": "markdown",
   "metadata": {},
   "source": [
    "### RLlib with Atari Learning Environment\n",
    "#### Dimitrios Megkos - dimitrios.megkos@city.ac.uk\n",
    "#### Environment: Atari Freeway (Ram Version) https://gym.openai.com/envs/Freeway-ram-v0/\n",
    "*\"Why did the chicken cross the road?\"*\n",
    "\n",
    "A classic atari game where one player (the agent) controls a chicken who can be made to run across a ten lane highway filled with traffic in order to get to the other side. Every time the chicken successufly crosses the road, a point (1) is awarded to the agent. If the chicken is hit by a car it is pushed back to the bottom of the screen. The point of the game is to collect as many points as possible."
   ]
  },
  {
   "cell_type": "markdown",
   "metadata": {},
   "source": [
    "### Import the libraries"
   ]
  },
  {
   "cell_type": "code",
   "execution_count": 1,
   "metadata": {},
   "outputs": [],
   "source": [
    "# Visualization imports\n",
    "import matplotlib.pyplot as plt\n",
    "# Ray and RLlib import\n",
    "import ray\n",
    "# import tune for hyper parameter experimentation\n",
    "from ray import tune\n",
    "from ray.tune import grid_search\n",
    "# Import a Trainable (one of RLlib's built-in algorithms):\n",
    "import ray.rllib.agents.dqn as dqn # Deep Q-Network"
   ]
  },
  {
   "cell_type": "markdown",
   "metadata": {},
   "source": [
    "### Setting up and trying multiple configurations\n",
    "There are two ways to experiment with different hyperparameres. \n",
    "The first way is to create different configurations and pass to the trainer inside a for loop that handles the training and stores the rewards which can then be plotted for comparisons.\n",
    "The second and more efficient way is to use Ray's Tune library for experiment execution and hyperparameter tuning. With this method, a grid search can be used to try different hyperparameter combinations, implementing a stoping criteria to control the training."
   ]
  },
  {
   "cell_type": "markdown",
   "metadata": {},
   "source": [
    "### Method 1: Passing different configurations to the Trainer"
   ]
  },
  {
   "cell_type": "markdown",
   "metadata": {},
   "source": [
    "#### Define configurations\n",
    "Two different configurations are defined below, each with different hyperparameters. The first one is a Vanilla DQN, the second is a Double DQN. Epsilon greedy is used to handle the agent's exploration-exploitation rate."
   ]
  },
  {
   "cell_type": "code",
   "execution_count": 2,
   "metadata": {},
   "outputs": [],
   "source": [
    "# based on lab 07 material\n",
    "# === FIRST CONFIGURATION ===\n",
    "config_1 = dqn.DEFAULT_CONFIG.copy() # copy the default configuration\n",
    "# === Deep Learning Framework Settings ===\n",
    "config_1[\"framework\"] = \"torch\" # set pytorch for the framework\n",
    "# === Environment Settings ===\n",
    "config_1[\"env\"] = \"Freeway-ramDeterministic-v4\" # load Atari Freeway from OpenAI Gym\n",
    "# === Settings for the Trainer process ===\n",
    "config_1[\"gamma\"] = 0.99 # MDP discount factor\n",
    "config_1[\"lr\"] = 0.0001 # the learning rate\n",
    "config_1[\"double_q\"] = False # whether to use double dqn\n",
    "# neural network architecture\n",
    "config_1[\"model\"] = {\n",
    "    \"fcnet_hiddens\": [256,256], # hidden layers and neurons\n",
    "    \"fcnet_activation\": \"relu\" # activation function\n",
    "}\n",
    "# === Exploration Settings ===\n",
    "config_1[\"explore\"] = True\n",
    "config_1[\"exploration_config\"] = {\n",
    "    \"type\": \"EpsilonGreedy\",\n",
    "    # Parameters for the Exploration class' constructor:\n",
    "    \"initial_epsilon\": 1.0,\n",
    "    \"final_epsilon\": 0.01,\n",
    "    \"epsilon_timesteps\": 20000\n",
    "}\n",
    "# === Evaluation Settings ===\n",
    "config_1[\"evaluation_duration\"] = 5\n",
    "config_1[\"evaluation_duration_unit\"] = \"episodes\"\n",
    "config_1[\"evaluation_num_workers\"] = 1\n",
    "config_1[\"evaluation_config\"] = {\n",
    "    \"render_env\": True,\n",
    "    \"explore\": False,\n",
    "}\n",
    "# === Resource Settings ===\n",
    "config_1[\"num_gpus\"] = 0\n",
    "config_1[\"num_cpus_per_worker\"] = 1\n",
    "\n",
    "\n",
    "\n",
    "# === SECOND CONFIGURATION ===\n",
    "config_2 = dqn.DEFAULT_CONFIG.copy() # copy the default configuration\n",
    "# === Deep Learning Framework Settings ===\n",
    "config_2[\"framework\"] = \"torch\" # set pytorch for the framework\n",
    "# === Environment Settings ===\n",
    "config_2[\"env\"] = \"Freeway-ramDeterministic-v4\" # load Atari Freeway from OpenAI Gym\n",
    "# === Settings for the Trainer process ===\n",
    "config_2[\"gamma\"] = 0.99 # MDP discount factor\n",
    "config_2[\"lr\"] = 0.0001 # the learning rate\n",
    "config_2[\"double_q\"] = True # whether to use double dqn\n",
    "# neural network architecture\n",
    "config_2[\"model\"] = {\n",
    "    \"fcnet_hiddens\": [256,256], # hidden layers and neurons\n",
    "    \"fcnet_activation\": \"relu\" # activation function\n",
    "}\n",
    "# === Exploration Settings ===\n",
    "config_2[\"explore\"] = True\n",
    "config_2[\"exploration_config\"] = {\n",
    "    \"type\": \"EpsilonGreedy\",\n",
    "    # Parameters for the Exploration class' constructor:\n",
    "    \"initial_epsilon\": 1.0,\n",
    "    \"final_epsilon\": 0.01,\n",
    "    \"epsilon_timesteps\": 20000\n",
    "}\n",
    "# === Evaluation Settings ===\n",
    "config_2[\"evaluation_duration\"] = 5\n",
    "config_2[\"evaluation_duration_unit\"] = \"episodes\"\n",
    "config_2[\"evaluation_num_workers\"] = 1\n",
    "config_2[\"evaluation_config\"] = {\n",
    "    \"render_env\": True,\n",
    "    \"explore\": False,\n",
    "}\n",
    "# === Resource Settings ===\n",
    "config_2[\"num_gpus\"] = 0\n",
    "config_2[\"num_cpus_per_worker\"] = 1"
   ]
  },
  {
   "cell_type": "markdown",
   "metadata": {},
   "source": [
    "### Train with each configuration"
   ]
  },
  {
   "cell_type": "markdown",
   "metadata": {},
   "source": [
    "#### Configuration 1 - Train Agent 1"
   ]
  },
  {
   "cell_type": "code",
   "execution_count": 3,
   "metadata": {},
   "outputs": [
    {
     "name": "stderr",
     "output_type": "stream",
     "text": [
      "2022-04-13 17:57:23,529\tINFO services.py:1412 -- View the Ray dashboard at \u001b[1m\u001b[32mhttp://127.0.0.1:8265\u001b[39m\u001b[22m\n",
      "2022-04-13 17:57:26,024\tWARNING trainer.py:2347 -- You have specified 1 evaluation workers, but your `evaluation_interval` is None! Therefore, evaluation will not occur automatically with each call to `Trainer.train()`. Instead, you will have to call `Trainer.evaluate()` manually in order to trigger an evaluation run.\n",
      "2022-04-13 17:57:26,026\tINFO simple_q.py:154 -- In multi-agent mode, policies will be optimized sequentially by the multi-GPU optimizer. Consider setting `simple_optimizer=True` if this doesn't work for you.\n",
      "2022-04-13 17:57:26,026\tINFO trainer.py:779 -- Current log_level is WARN. For more information, set 'log_level': 'INFO' / 'DEBUG' or use the -v and -vv flags.\n",
      "2022-04-13 17:57:26,194\tWARNING deprecation.py:45 -- DeprecationWarning: `simple_optimizer` has been deprecated. This will raise an error in the future!\n",
      "2022-04-13 17:57:26,195\tWARNING trainer.py:2347 -- You have specified 1 evaluation workers, but your `evaluation_interval` is None! Therefore, evaluation will not occur automatically with each call to `Trainer.train()`. Instead, you will have to call `Trainer.evaluate()` manually in order to trigger an evaluation run.\n",
      "2022-04-13 17:57:26,242\tWARNING util.py:55 -- Install gputil for GPU system monitoring.\n"
     ]
    },
    {
     "name": "stdout",
     "output_type": "stream",
     "text": [
      "nan\n",
      "nan\n",
      "0.0\n",
      "0.0\n",
      "0.0\n",
      "0.0\n",
      "0.0\n",
      "0.0\n",
      "0.0\n",
      "0.0\n",
      "0.0\n",
      "0.0\n",
      "0.0\n",
      "0.0\n",
      "0.0\n",
      "0.0\n",
      "0.0\n",
      "0.0\n",
      "0.0\n",
      "0.0\n",
      "0.1\n",
      "0.1\n",
      "0.8181818181818182\n",
      "0.8181818181818182\n",
      "1.5\n",
      "1.5\n",
      "2.1538461538461537\n",
      "2.1538461538461537\n",
      "2.5\n",
      "2.5\n",
      "3.0\n",
      "3.0\n",
      "3.625\n",
      "3.625\n",
      "4.117647058823529\n",
      "4.117647058823529\n",
      "4.666666666666667\n",
      "4.666666666666667\n",
      "5.052631578947368\n",
      "5.052631578947368\n",
      "5.5\n",
      "5.5\n",
      "5.5\n",
      "5.904761904761905\n",
      "5.904761904761905\n",
      "6.2727272727272725\n",
      "6.2727272727272725\n",
      "6.695652173913044\n",
      "6.695652173913044\n",
      "7.0\n"
     ]
    }
   ],
   "source": [
    "# based on lab 07 material\n",
    "# initialise ray\n",
    "ray.init()\n",
    "\n",
    "# create our RLlib Trainer.\n",
    "agent_1 = dqn.DQNTrainer(config=config_1)\n",
    "\n",
    "# create list to store rewards\n",
    "avg_rewards_1 = []\n",
    "\n",
    "# begin training\n",
    "for i in range(50):\n",
    "    # Perform one iteration of training the policy with DQN\n",
    "    result = agent_1.train()\n",
    "    #print(pretty_print(result))\n",
    "    print(result['episode_reward_mean'])\n",
    "    avg_rewards_1.append(result['episode_reward_mean'])\n",
    "\n",
    "# shutdown ray\n",
    "#ray.shutdown()"
   ]
  },
  {
   "cell_type": "markdown",
   "metadata": {},
   "source": [
    "#### Plot Agent 1 Rewards"
   ]
  },
  {
   "cell_type": "code",
   "execution_count": 4,
   "metadata": {},
   "outputs": [
    {
     "data": {
      "image/png": "[encoded data removed]",
      "text/plain": [
       "<Figure size 432x288 with 1 Axes>"
      ]
     },
     "metadata": {
      "needs_background": "light"
     },
     "output_type": "display_data"
    }
   ],
   "source": [
    "# plot the rewards of agent 1\n",
    "plt.title(\"Agent 1 - Vanilla DQN\")\n",
    "plt.xlabel(\"Episodes\")\n",
    "plt.ylabel(\"Average Rewards\")\n",
    "a1=plt.plot(avg_rewards_1, 'b.')"
   ]
  },
  {
   "cell_type": "markdown",
   "metadata": {},
   "source": [
    "#### Evaluate Agent 1"
   ]
  },
  {
   "cell_type": "code",
   "execution_count": 8,
   "metadata": {},
   "outputs": [
    {
     "data": {
      "text/plain": [
       "{'evaluation': {'episode_reward_max': 21.0,\n",
       "  'episode_reward_min': 21.0,\n",
       "  'episode_reward_mean': 21.0,\n",
       "  'episode_len_mean': 2048.0,\n",
       "  'episode_media': {},\n",
       "  'episodes_this_iter': 5,\n",
       "  'policy_reward_min': {},\n",
       "  'policy_reward_max': {},\n",
       "  'policy_reward_mean': {},\n",
       "  'custom_metrics': {},\n",
       "  'hist_stats': {'episode_reward': [21.0, 21.0, 21.0, 21.0, 21.0],\n",
       "   'episode_lengths': [2048, 2048, 2048, 2048, 2048]},\n",
       "  'sampler_perf': {'mean_raw_obs_processing_ms': 0.08932406426686676,\n",
       "   'mean_inference_ms': 0.5525182832580632,\n",
       "   'mean_action_processing_ms': 0.02557385562628161,\n",
       "   'mean_env_wait_ms': 0.6681889158803357,\n",
       "   'mean_env_render_ms': 1.1005202560566352},\n",
       "  'off_policy_estimator': {},\n",
       "  'timesteps_this_iter': 0}}"
      ]
     },
     "execution_count": 8,
     "metadata": {},
     "output_type": "execute_result"
    }
   ],
   "source": [
    "# evaluate agent for 5 episodes\n",
    "agent_1.evaluate()\n",
    "# shutdown ray\n",
    "ray.shutdown()\n",
    "#show agent_1 evaluation metrics\n",
    "agent_1.evaluation_metrics"
   ]
  },
  {
   "cell_type": "markdown",
   "metadata": {},
   "source": [
    "#### Configuration 2 - Train Agent 2"
   ]
  },
  {
   "cell_type": "code",
   "execution_count": 5,
   "metadata": {},
   "outputs": [
    {
     "name": "stderr",
     "output_type": "stream",
     "text": [
      "2022-04-13 18:01:28,354\tWARNING trainer.py:2347 -- You have specified 1 evaluation workers, but your `evaluation_interval` is None! Therefore, evaluation will not occur automatically with each call to `Trainer.train()`. Instead, you will have to call `Trainer.evaluate()` manually in order to trigger an evaluation run.\n",
      "2022-04-13 18:01:28,502\tWARNING deprecation.py:45 -- DeprecationWarning: `simple_optimizer` has been deprecated. This will raise an error in the future!\n",
      "2022-04-13 18:01:28,502\tWARNING trainer.py:2347 -- You have specified 1 evaluation workers, but your `evaluation_interval` is None! Therefore, evaluation will not occur automatically with each call to `Trainer.train()`. Instead, you will have to call `Trainer.evaluate()` manually in order to trigger an evaluation run.\n",
      "2022-04-13 18:01:28,543\tWARNING util.py:55 -- Install gputil for GPU system monitoring.\n"
     ]
    },
    {
     "name": "stdout",
     "output_type": "stream",
     "text": [
      "nan\n",
      "nan\n",
      "0.0\n",
      "0.0\n",
      "0.0\n",
      "0.0\n",
      "0.0\n",
      "0.0\n",
      "0.0\n",
      "0.0\n",
      "0.0\n",
      "0.0\n",
      "0.0\n",
      "0.0\n",
      "0.0\n",
      "0.0\n",
      "0.25\n",
      "0.25\n",
      "0.8888888888888888\n",
      "0.8888888888888888\n",
      "1.8\n",
      "1.8\n",
      "2.5454545454545454\n",
      "2.5454545454545454\n",
      "3.1666666666666665\n",
      "3.1666666666666665\n",
      "4.153846153846154\n",
      "4.153846153846154\n",
      "4.785714285714286\n",
      "4.785714285714286\n",
      "5.533333333333333\n",
      "5.533333333333333\n",
      "6.25\n",
      "6.25\n",
      "6.9411764705882355\n",
      "6.9411764705882355\n",
      "7.555555555555555\n",
      "7.555555555555555\n",
      "8.105263157894736\n",
      "8.105263157894736\n",
      "8.7\n",
      "8.7\n",
      "8.7\n",
      "9.047619047619047\n",
      "9.047619047619047\n",
      "9.545454545454545\n",
      "9.545454545454545\n",
      "10.0\n",
      "10.0\n",
      "10.416666666666666\n"
     ]
    }
   ],
   "source": [
    "# based on lab 07 material\n",
    "# initialise ray\n",
    "ray.init()\n",
    "\n",
    "# create our RLlib Trainer.\n",
    "agent_2 = dqn.DQNTrainer(config=config_2)\n",
    "\n",
    "# create list to store rewards\n",
    "avg_rewards_2 = []\n",
    "\n",
    "# begin training\n",
    "for i in range(50):\n",
    "    # Perform one iteration of training the policy with DQN\n",
    "    result = agent_2.train()\n",
    "    #print(pretty_print(result))\n",
    "    print(result['episode_reward_mean'])\n",
    "    avg_rewards_2.append(result['episode_reward_mean'])\n",
    "\n",
    "# shutdown ray\n",
    "#ray.shutdown()"
   ]
  },
  {
   "cell_type": "markdown",
   "metadata": {},
   "source": [
    "#### Plot Agent 2 Rewards"
   ]
  },
  {
   "cell_type": "code",
   "execution_count": 6,
   "metadata": {},
   "outputs": [
    {
     "data": {
      "image/png": "[encoded data removed]",
      "text/plain": [
       "<Figure size 432x288 with 1 Axes>"
      ]
     },
     "metadata": {
      "needs_background": "light"
     },
     "output_type": "display_data"
    }
   ],
   "source": [
    "# plot the rewards of agent 2\n",
    "plt.title(\"Agent 2 - Double DQN\")\n",
    "plt.xlabel(\"Episodes\")\n",
    "plt.ylabel(\"Average Rewards\")\n",
    "a2 = plt.plot(avg_rewards_2, 'r.')"
   ]
  },
  {
   "cell_type": "markdown",
   "metadata": {},
   "source": [
    "#### Evaluate Agent 2"
   ]
  },
  {
   "cell_type": "code",
   "execution_count": 7,
   "metadata": {},
   "outputs": [
    {
     "data": {
      "text/plain": [
       "{'evaluation': {'episode_reward_max': 22.0,\n",
       "  'episode_reward_min': 22.0,\n",
       "  'episode_reward_mean': 22.0,\n",
       "  'episode_len_mean': 2048.0,\n",
       "  'episode_media': {},\n",
       "  'episodes_this_iter': 5,\n",
       "  'policy_reward_min': {},\n",
       "  'policy_reward_max': {},\n",
       "  'policy_reward_mean': {},\n",
       "  'custom_metrics': {},\n",
       "  'hist_stats': {'episode_reward': [22.0, 22.0, 22.0, 22.0, 22.0],\n",
       "   'episode_lengths': [2048, 2048, 2048, 2048, 2048]},\n",
       "  'sampler_perf': {'mean_raw_obs_processing_ms': 0.0861592968394195,\n",
       "   'mean_inference_ms': 0.54730375860017,\n",
       "   'mean_action_processing_ms': 0.025069873065946623,\n",
       "   'mean_env_wait_ms': 0.6753676874238804,\n",
       "   'mean_env_render_ms': 1.1064958297674363},\n",
       "  'off_policy_estimator': {},\n",
       "  'timesteps_this_iter': 0}}"
      ]
     },
     "execution_count": 7,
     "metadata": {},
     "output_type": "execute_result"
    }
   ],
   "source": [
    "# evaluate agent for 5 episodes\n",
    "agent_2.evaluate()\n",
    "# shutdown ray\n",
    "ray.shutdown()\n",
    "#show agent_2 evaluation metrics\n",
    "agent_2.evaluation_metrics"
   ]
  },
  {
   "cell_type": "markdown",
   "metadata": {},
   "source": [
    "#### Analysis of results\n",
    "- During the first trials, a network architecture of one hidden layer with 512 hidden neurons was used for both Vanilla DQN and Double DQN. Vanilla DQN did not manage to receive any rewards after 50 iterations, achieving a mean reward of zero during evaluation. Double DQN managed to receive 1.20 average rewards after 50 iterations, achieving a mean reward of 11 during evaluation\n",
    "- Changing the architecture of the networks to two hidden layers with 256 hidden neurons each greatly improved the performance of both Vanilla DQN and Double DQN. Having two hidden layers, the agents were able to perform more complex calculations enabling them to learn faster and better. Vanilla DQN started earning rewards after 19 iterations, reaching an average of 7 rewards after 50 iterations and achieving a mean reward of 21 during evaluation. Double DQN started earning rewards after 15 iterations, reaching an average of 10.40 rewards after 50 iterations and achieving a mean reward of 22 during evaluation.\n",
    "- Although both agents achieved similar evaluation scores, Double DQN is the winner here because it not only because it started learning faster, but also because it managed to achieve higher score after 50 training iterations. This makes sense considering a Double DQN is using a second network to calculate the target values.  "
   ]
  },
  {
   "cell_type": "markdown",
   "metadata": {},
   "source": [
    "### Method 2: Using the Tune Library\n",
    "Using Agent 2 configuration (Double DQN), a grid search is going to be performed in order to experiment more and fine tune the hyperparameters. The parameters that seem to affect learning the most are the *learning rate*, the *number of hidden layers*, the *number of hidden neurons* and the *type of activation function*, therefore the grid search will focus on those parameters."
   ]
  },
  {
   "cell_type": "markdown",
   "metadata": {},
   "source": [
    "#### Define the grid search configuration"
   ]
  },
  {
   "cell_type": "code",
   "execution_count": 16,
   "metadata": {},
   "outputs": [],
   "source": [
    "# === GRID SEARCH CONFIGURATION ===\n",
    "gs_config = dqn.DEFAULT_CONFIG.copy() # copy the default configuration\n",
    "# === Deep Learning Framework Settings ===\n",
    "gs_config[\"framework\"] = \"torch\" # set pytorch for the framework\n",
    "# === Environment Settings ===\n",
    "gs_config[\"env\"] = \"Freeway-ramDeterministic-v4\" # load Atari Freeway from OpenAI Gym\n",
    "# === Settings for the Trainer process ===\n",
    "gs_config[\"gamma\"] = 0.99 # MDP discount factor\n",
    "gs_config[\"lr\"] = grid_search([0.001,0.0001]) # the learning rate\n",
    "gs_config[\"double_q\"] = True # whether to use double dqn\n",
    "# neural network architecture\n",
    "gs_config[\"model\"] = {\n",
    "    \"fcnet_hiddens\": grid_search([[256,256], [256,256,256]]), # hidden layers and neurons\n",
    "    \"fcnet_activation\": grid_search([\"relu\",\"linear\"]) # activation function\n",
    "}\n",
    "# === Exploration Settings ===\n",
    "gs_config[\"explore\"] = True\n",
    "gs_config[\"exploration_config\"] = {\n",
    "    \"type\": \"EpsilonGreedy\",\n",
    "    # Parameters for the Exploration class' constructor:\n",
    "    \"initial_epsilon\": 1.0,\n",
    "    \"final_epsilon\": 0.01,\n",
    "    \"epsilon_timesteps\": 10000\n",
    "}"
   ]
  },
  {
   "cell_type": "markdown",
   "metadata": {},
   "source": [
    "#### Run the Tuning\n",
    "The tuning will run until the agents reach a mean episode reward of 12 and Tune will return the best hyperparameter combination that required the least total timesteps to reach the goal."
   ]
  },
  {
   "cell_type": "code",
   "execution_count": null,
   "metadata": {},
   "outputs": [],
   "source": [
    "# inspired by https://www.anyscale.com/blog/an-introduction-to-reinforcement-learning-with-openai-gym-rllib-and-google\n",
    "# initialize ray\n",
    "ray.init()\n",
    "\n",
    "# begin tune analysis\n",
    "gs_analysis = tune.run(\n",
    "    dqn.DQNTrainer, # the trainer\n",
    "    config=gs_config, # use the grid search configuration\n",
    "    stop={\"episode_reward_mean\": 12}, # stop criteria\n",
    "    metric=\"timesteps_total\", # comparisons based on total timesteps\n",
    "    mode=\"min\" # choose based on the least total timesteps\n",
    ")\n",
    "\n",
    "# shutdown ray\n",
    "ray.shutdown()"
   ]
  },
  {
   "cell_type": "markdown",
   "metadata": {},
   "source": [
    "#### Printing the best configuration"
   ]
  },
  {
   "cell_type": "code",
   "execution_count": 18,
   "metadata": {},
   "outputs": [
    {
     "name": "stdout",
     "output_type": "stream",
     "text": [
      "Best hyperparameters found: {'num_workers': 0, 'num_envs_per_worker': 1, 'create_env_on_driver': False, 'rollout_fragment_length': 4, 'batch_mode': 'truncate_episodes', 'gamma': 0.99, 'lr': 0.001, 'train_batch_size': 32, 'model': {'fcnet_hiddens': [256, 256], 'fcnet_activation': 'relu'}, 'optimizer': {}, 'horizon': None, 'soft_horizon': False, 'no_done_at_end': False, 'env': 'Freeway-ramDeterministic-v4', 'observation_space': None, 'action_space': None, 'env_config': {}, 'remote_worker_envs': False, 'remote_env_batch_wait_ms': 0, 'env_task_fn': None, 'render_env': False, 'record_env': False, 'clip_rewards': None, 'normalize_actions': True, 'clip_actions': False, 'preprocessor_pref': 'deepmind', 'log_level': 'WARN', 'callbacks': <class 'ray.rllib.agents.callbacks.DefaultCallbacks'>, 'ignore_worker_failures': False, 'log_sys_usage': True, 'fake_sampler': False, 'framework': 'torch', 'eager_tracing': False, 'eager_max_retraces': 20, 'explore': True, 'exploration_config': {'type': 'EpsilonGreedy', 'initial_epsilon': 1.0, 'final_epsilon': 0.01, 'epsilon_timesteps': 10000}, 'evaluation_interval': None, 'evaluation_duration': 10, 'evaluation_duration_unit': 'episodes', 'evaluation_parallel_to_training': False, 'in_evaluation': False, 'evaluation_config': {'explore': False}, 'evaluation_num_workers': 0, 'custom_eval_function': None, 'always_attach_evaluation_results': False, 'sample_async': False, 'sample_collector': <class 'ray.rllib.evaluation.collectors.simple_list_collector.SimpleListCollector'>, 'observation_filter': 'NoFilter', 'synchronize_filters': True, 'tf_session_args': {'intra_op_parallelism_threads': 2, 'inter_op_parallelism_threads': 2, 'gpu_options': {'allow_growth': True}, 'log_device_placement': False, 'device_count': {'CPU': 1}, 'allow_soft_placement': True}, 'local_tf_session_args': {'intra_op_parallelism_threads': 8, 'inter_op_parallelism_threads': 8}, 'compress_observations': False, 'metrics_episode_collection_timeout_s': 180, 'metrics_num_episodes_for_smoothing': 100, 'min_time_s_per_reporting': 1, 'min_train_timesteps_per_reporting': None, 'min_sample_timesteps_per_reporting': None, 'seed': None, 'extra_python_environs_for_driver': {}, 'extra_python_environs_for_worker': {}, 'num_gpus': 0, '_fake_gpus': False, 'num_cpus_per_worker': 1, 'num_gpus_per_worker': 0, 'custom_resources_per_worker': {}, 'num_cpus_for_driver': 1, 'placement_strategy': 'PACK', 'input': 'sampler', 'input_config': {}, 'actions_in_input_normalized': False, 'input_evaluation': ['is', 'wis'], 'postprocess_inputs': False, 'shuffle_buffer_size': 0, 'output': None, 'output_compress_columns': ['obs', 'new_obs'], 'output_max_file_size': 67108864, 'multiagent': {'policies': {}, 'policy_map_capacity': 100, 'policy_map_cache': None, 'policy_mapping_fn': None, 'policies_to_train': None, 'observation_fn': None, 'replay_mode': 'independent', 'count_steps_by': 'env_steps'}, 'logger_config': None, '_tf_policy_handles_more_than_one_loss': False, '_disable_preprocessor_api': False, '_disable_action_flattening': False, '_disable_execution_plan_api': False, 'simple_optimizer': -1, 'monitor': -1, 'evaluation_num_episodes': -1, 'metrics_smoothing_episodes': -1, 'timesteps_per_iteration': 1000, 'min_iter_time_s': -1, 'collect_metrics_timeout': -1, 'target_network_update_freq': 500, 'buffer_size': -1, 'replay_buffer_config': {'type': 'MultiAgentReplayBuffer', 'capacity': 50000}, 'store_buffer_in_checkpoints': False, 'replay_sequence_length': 1, 'lr_schedule': None, 'adam_epsilon': 1e-08, 'grad_clip': 40, 'learning_starts': 1000, 'num_atoms': 1, 'v_min': -10.0, 'v_max': 10.0, 'noisy': False, 'sigma0': 0.5, 'dueling': True, 'hiddens': [256], 'double_q': True, 'n_step': 1, 'prioritized_replay': True, 'prioritized_replay_alpha': 0.6, 'prioritized_replay_beta': 0.4, 'final_prioritized_replay_beta': 0.4, 'prioritized_replay_beta_annealing_timesteps': 20000, 'prioritized_replay_eps': 1e-06, 'before_learn_on_batch': None, 'training_intensity': None, 'worker_side_prioritization': False}\n"
     ]
    }
   ],
   "source": [
    "# print out best hyperparameters\n",
    "print(\n",
    "  \"Best hyperparameters found:\",\n",
    "  gs_analysis.best_config,\n",
    ")"
   ]
  },
  {
   "cell_type": "markdown",
   "metadata": {},
   "source": [
    "According to the grid search, the best hyper parameter combination is: learning rate 0.001, two hidden layers with 256 hidden neurons and relu activation function. All of the configurations reached the target. It seems that adding more hidden layers did not benefit the network, it only added more time to learn since there are more computations happening. The reason behind this is that the problem is not complex enought meaning it does not require three hidden layers. The configurations with smaller learning rate also required more iterations since the agent learns slower."
   ]
  },
  {
   "cell_type": "markdown",
   "metadata": {},
   "source": [
    "![Image](gsearch_results.jpg)"
   ]
  },
  {
   "cell_type": "markdown",
   "metadata": {},
   "source": [
    "#### Optimized Configuration\n",
    "Using the configuration that was selected by grid search, a training of 200 iterations was performed."
   ]
  },
  {
   "cell_type": "code",
   "execution_count": 2,
   "metadata": {},
   "outputs": [
    {
     "name": "stderr",
     "output_type": "stream",
     "text": [
      "2022-04-14 10:29:23,607\tINFO services.py:1412 -- View the Ray dashboard at \u001b[1m\u001b[32mhttp://127.0.0.1:8265\u001b[39m\u001b[22m\n",
      "2022-04-14 10:29:26,289\tWARNING trainer.py:2347 -- You have specified 1 evaluation workers, but your `evaluation_interval` is None! Therefore, evaluation will not occur automatically with each call to `Trainer.train()`. Instead, you will have to call `Trainer.evaluate()` manually in order to trigger an evaluation run.\n",
      "2022-04-14 10:29:26,291\tINFO simple_q.py:154 -- In multi-agent mode, policies will be optimized sequentially by the multi-GPU optimizer. Consider setting `simple_optimizer=True` if this doesn't work for you.\n",
      "2022-04-14 10:29:26,291\tINFO trainer.py:779 -- Current log_level is WARN. For more information, set 'log_level': 'INFO' / 'DEBUG' or use the -v and -vv flags.\n",
      "2022-04-14 10:29:26,462\tWARNING deprecation.py:45 -- DeprecationWarning: `simple_optimizer` has been deprecated. This will raise an error in the future!\n",
      "2022-04-14 10:29:26,463\tWARNING trainer.py:2347 -- You have specified 1 evaluation workers, but your `evaluation_interval` is None! Therefore, evaluation will not occur automatically with each call to `Trainer.train()`. Instead, you will have to call `Trainer.evaluate()` manually in order to trigger an evaluation run.\n",
      "2022-04-14 10:29:26,511\tWARNING util.py:55 -- Install gputil for GPU system monitoring.\n"
     ]
    },
    {
     "name": "stdout",
     "output_type": "stream",
     "text": [
      "nan\n",
      "nan\n",
      "0.0\n",
      "0.0\n",
      "0.0\n",
      "0.0\n",
      "0.0\n",
      "0.0\n",
      "0.0\n",
      "0.0\n",
      "0.0\n",
      "0.0\n",
      "0.0\n",
      "0.0\n",
      "0.0\n",
      "0.0\n",
      "0.0\n",
      "0.0\n",
      "0.1111111111111111\n",
      "0.1111111111111111\n",
      "0.4\n",
      "0.4\n",
      "0.7272727272727273\n",
      "0.7272727272727273\n",
      "1.3333333333333333\n",
      "1.3333333333333333\n",
      "2.3846153846153846\n",
      "2.3846153846153846\n",
      "3.0714285714285716\n",
      "3.0714285714285716\n",
      "4.0\n",
      "4.0\n",
      "4.875\n",
      "4.875\n",
      "5.705882352941177\n",
      "5.705882352941177\n",
      "6.222222222222222\n",
      "6.222222222222222\n",
      "6.7894736842105265\n",
      "6.7894736842105265\n",
      "7.5\n",
      "7.5\n",
      "7.5\n",
      "8.19047619047619\n",
      "8.19047619047619\n",
      "8.863636363636363\n",
      "8.863636363636363\n",
      "9.521739130434783\n",
      "9.521739130434783\n",
      "9.958333333333334\n",
      "9.958333333333334\n",
      "10.44\n",
      "10.44\n",
      "10.884615384615385\n",
      "10.884615384615385\n",
      "11.185185185185185\n",
      "11.185185185185185\n",
      "11.5\n",
      "11.5\n",
      "12.0\n",
      "12.0\n",
      "12.4\n",
      "12.4\n",
      "12.67741935483871\n",
      "12.67741935483871\n",
      "13.0\n",
      "13.0\n",
      "13.272727272727273\n",
      "13.272727272727273\n",
      "13.617647058823529\n",
      "13.617647058823529\n",
      "13.914285714285715\n",
      "13.914285714285715\n",
      "14.13888888888889\n",
      "14.13888888888889\n",
      "14.324324324324325\n",
      "14.324324324324325\n",
      "14.578947368421053\n",
      "14.578947368421053\n",
      "14.717948717948717\n",
      "14.717948717948717\n",
      "14.975\n",
      "14.975\n",
      "15.097560975609756\n",
      "15.097560975609756\n",
      "15.097560975609756\n",
      "15.214285714285714\n",
      "15.214285714285714\n",
      "15.348837209302326\n",
      "15.348837209302326\n",
      "15.590909090909092\n",
      "15.590909090909092\n",
      "15.755555555555556\n",
      "15.755555555555556\n",
      "15.978260869565217\n",
      "15.978260869565217\n",
      "16.06382978723404\n",
      "16.06382978723404\n",
      "16.229166666666668\n",
      "16.229166666666668\n",
      "16.387755102040817\n",
      "16.387755102040817\n",
      "16.52\n",
      "16.52\n",
      "16.627450980392158\n",
      "16.627450980392158\n",
      "16.76923076923077\n",
      "16.76923076923077\n",
      "16.81132075471698\n",
      "16.81132075471698\n",
      "16.88888888888889\n",
      "16.88888888888889\n",
      "17.0\n",
      "17.0\n",
      "17.071428571428573\n",
      "17.071428571428573\n",
      "17.140350877192983\n",
      "17.140350877192983\n",
      "17.20689655172414\n",
      "17.20689655172414\n",
      "17.322033898305083\n",
      "17.322033898305083\n",
      "17.433333333333334\n",
      "17.433333333333334\n",
      "17.491803278688526\n",
      "17.491803278688526\n",
      "17.532258064516128\n",
      "17.532258064516128\n",
      "17.532258064516128\n",
      "17.634920634920636\n",
      "17.634920634920636\n",
      "17.703125\n",
      "17.703125\n",
      "17.784615384615385\n",
      "17.784615384615385\n",
      "17.818181818181817\n",
      "17.818181818181817\n",
      "17.880597014925375\n",
      "17.880597014925375\n",
      "17.897058823529413\n",
      "17.897058823529413\n",
      "18.0\n",
      "18.0\n",
      "18.085714285714285\n",
      "18.085714285714285\n",
      "18.12676056338028\n",
      "18.12676056338028\n",
      "18.194444444444443\n",
      "18.194444444444443\n",
      "18.21917808219178\n",
      "18.21917808219178\n",
      "18.27027027027027\n",
      "18.27027027027027\n",
      "18.32\n",
      "18.32\n",
      "18.36842105263158\n",
      "18.36842105263158\n",
      "18.454545454545453\n",
      "18.454545454545453\n",
      "18.5\n",
      "18.5\n",
      "18.556962025316455\n",
      "18.556962025316455\n",
      "18.6\n",
      "18.6\n",
      "18.59259259259259\n",
      "18.59259259259259\n",
      "18.609756097560975\n",
      "18.609756097560975\n",
      "18.626506024096386\n",
      "18.626506024096386\n",
      "18.626506024096386\n",
      "18.702380952380953\n",
      "18.702380952380953\n",
      "18.694117647058825\n",
      "18.694117647058825\n",
      "18.74418604651163\n",
      "18.74418604651163\n",
      "18.79310344827586\n",
      "18.79310344827586\n",
      "18.829545454545453\n",
      "18.829545454545453\n",
      "18.876404494382022\n",
      "18.876404494382022\n",
      "18.92222222222222\n",
      "18.92222222222222\n",
      "18.978021978021978\n",
      "18.978021978021978\n",
      "19.02173913043478\n",
      "19.02173913043478\n",
      "19.0752688172043\n",
      "19.0752688172043\n",
      "19.117021276595743\n",
      "19.117021276595743\n",
      "19.157894736842106\n",
      "19.157894736842106\n",
      "19.135416666666668\n",
      "19.135416666666668\n",
      "19.144329896907216\n",
      "19.144329896907216\n"
     ]
    }
   ],
   "source": [
    "# === OPTIMIZED CONFIGURATION ===\n",
    "config_3 = dqn.DEFAULT_CONFIG.copy() # copy the default configuration\n",
    "# === Deep Learning Framework Settings ===\n",
    "config_3[\"framework\"] = \"torch\" # set pytorch for the framework\n",
    "# === Environment Settings ===\n",
    "config_3[\"env\"] = \"Freeway-ramDeterministic-v4\" # load Atari Freeway from OpenAI Gym\n",
    "# === Settings for the Trainer process ===\n",
    "config_3[\"gamma\"] = 0.99 # MDP discount factor\n",
    "config_3[\"lr\"] = 0.001 # the learning rate\n",
    "config_3[\"double_q\"] = True # whether to use double dqn\n",
    "# neural network architecture\n",
    "config_3[\"model\"] = {\n",
    "    \"fcnet_hiddens\": [256,256], # hidden layers and neurons\n",
    "    \"fcnet_activation\": \"relu\" # activation function\n",
    "}\n",
    "# === Exploration Settings ===\n",
    "config_3[\"explore\"] = True\n",
    "config_3[\"exploration_config\"] = {\n",
    "    \"type\": \"EpsilonGreedy\",\n",
    "    # Parameters for the Exploration class' constructor:\n",
    "    \"initial_epsilon\": 1.0,\n",
    "    \"final_epsilon\": 0.01,\n",
    "    \"epsilon_timesteps\": 20000\n",
    "}\n",
    "# === Evaluation Settings ===\n",
    "config_3[\"evaluation_duration\"] = 5\n",
    "config_3[\"evaluation_duration_unit\"] = \"episodes\"\n",
    "config_3[\"evaluation_num_workers\"] = 1\n",
    "config_3[\"evaluation_config\"] = {\n",
    "    \"render_env\": True,\n",
    "    \"explore\": False,\n",
    "}\n",
    "# === Resource Settings ===\n",
    "config_3[\"num_gpus\"] = 0\n",
    "config_3[\"num_cpus_per_worker\"] = 1\n",
    "\n",
    "# based on lab 07 material\n",
    "# initialise ray\n",
    "ray.init()\n",
    "\n",
    "# create our RLlib Trainer.\n",
    "agent_3 = dqn.DQNTrainer(config=config_3)\n",
    "\n",
    "# create list to store rewards\n",
    "avg_rewards_3 = []\n",
    "\n",
    "# begin training\n",
    "for i in range(200):\n",
    "    # Perform one iteration of training the policy with DQN\n",
    "    result = agent_3.train()\n",
    "    #print(pretty_print(result))\n",
    "    print(result['episode_reward_mean'])\n",
    "    avg_rewards_3.append(result['episode_reward_mean'])\n",
    "\n",
    "# shutdown ray\n",
    "#ray.shutdown()"
   ]
  },
  {
   "cell_type": "markdown",
   "metadata": {},
   "source": [
    "#### Plot Agent 3 Rewards"
   ]
  },
  {
   "cell_type": "code",
   "execution_count": 4,
   "metadata": {},
   "outputs": [
    {
     "data": {
      "image/png": "[encoded data removed]",
      "text/plain": [
       "<Figure size 432x288 with 1 Axes>"
      ]
     },
     "metadata": {
      "needs_background": "light"
     },
     "output_type": "display_data"
    }
   ],
   "source": [
    "# plot the rewards of agent 3\n",
    "plt.title(\"Agent 3 - Double DQN\")\n",
    "plt.xlabel(\"Episodes\")\n",
    "plt.ylabel(\"Average Rewards\")\n",
    "a3 = plt.plot(avg_rewards_3, 'g.')"
   ]
  },
  {
   "cell_type": "markdown",
   "metadata": {},
   "source": [
    "#### Evaluate Agent 3"
   ]
  },
  {
   "cell_type": "code",
   "execution_count": 5,
   "metadata": {},
   "outputs": [
    {
     "data": {
      "text/plain": [
       "{'evaluation': {'episode_reward_max': 25.0,\n",
       "  'episode_reward_min': 24.0,\n",
       "  'episode_reward_mean': 24.2,\n",
       "  'episode_len_mean': 2048.0,\n",
       "  'episode_media': {},\n",
       "  'episodes_this_iter': 5,\n",
       "  'policy_reward_min': {},\n",
       "  'policy_reward_max': {},\n",
       "  'policy_reward_mean': {},\n",
       "  'custom_metrics': {},\n",
       "  'hist_stats': {'episode_reward': [24.0, 24.0, 24.0, 25.0, 24.0],\n",
       "   'episode_lengths': [2048, 2048, 2048, 2048, 2048]},\n",
       "  'sampler_perf': {'mean_raw_obs_processing_ms': 0.08993371833687287,\n",
       "   'mean_inference_ms': 0.558637476167622,\n",
       "   'mean_action_processing_ms': 0.025392661231090963,\n",
       "   'mean_env_wait_ms': 0.6782928489518927,\n",
       "   'mean_env_render_ms': 1.1537799075320065},\n",
       "  'off_policy_estimator': {},\n",
       "  'timesteps_this_iter': 0}}"
      ]
     },
     "execution_count": 5,
     "metadata": {},
     "output_type": "execute_result"
    }
   ],
   "source": [
    "# evaluate agent for 5 episodes\n",
    "agent_3.evaluate()\n",
    "# shutdown ray\n",
    "ray.shutdown()\n",
    "#show agent_2 evaluation metrics\n",
    "agent_3.evaluation_metrics"
   ]
  },
  {
   "cell_type": "markdown",
   "metadata": {},
   "source": [
    "Agent 3 with optimal configuration reached an average of 20 rewards after 200 iterations and from that point it started reaching plateau. During evaluation it was able to achieve an average of 24.2 rewards, after playing 5 episodes, which is pretty impresive considering back in the day Activition used to send a cloth \"Save The Chicken Foundation\" patch to every player that managed to score 20 or more points on either Road 3 or Road 7 and sent in a photograph of thei television screen. [1]"
   ]
  },
  {
   "cell_type": "markdown",
   "metadata": {},
   "source": [
    "References\n",
    "- [1] Freeway (video game), Wikipedia https://en.wikipedia.org/wiki/Freeway_(video_game)"
   ]
  }
 ],
 "metadata": {
  "interpreter": {
   "hash": "9285b2cc289002d68e5229deff99f56373611dfe6f7a22153195c44f04bc854f"
  },
  "kernelspec": {
   "display_name": "Python 3 (ipykernel)",
   "language": "python",
   "name": "python3"
  },
  "language_info": {
   "codemirror_mode": {
    "name": "ipython",
    "version": 3
   },
   "file_extension": ".py",
   "mimetype": "text/x-python",
   "name": "python",
   "nbconvert_exporter": "python",
   "pygments_lexer": "ipython3",
   "version": "3.8.12"
  }
 },
 "nbformat": 4,
 "nbformat_minor": 2
}
