{
 "cells": [
  {
   "cell_type": "markdown",
   "metadata": {},
   "source": [
    "### PPO Implementation on Lunar Lander environment using RLlib\n",
    "### Alessandro Alviani - alessandro.alviani@city.ac.uk\n",
    "### Dimitrios Megkos - dimitrios.megkos@city.ac.uk\n",
    "\n",
    "The PPO algorithm was implemented using Ray RLlib on the OpenAI Gym Environment: Lunar Lander"
   ]
  },
  {
   "cell_type": "markdown",
   "metadata": {},
   "source": [
    "#### Import Libraries"
   ]
  },
  {
   "cell_type": "code",
   "execution_count": 1,
   "metadata": {},
   "outputs": [],
   "source": [
    "# Visualization imports\n",
    "import matplotlib.pyplot as plt\n",
    "# Ray and RLlib import\n",
    "import ray\n",
    "# Import a Trainable (one of RLlib's built-in algorithms):\n",
    "import ray.rllib.agents.ppo as ppo # PPO Algorithm"
   ]
  },
  {
   "cell_type": "markdown",
   "metadata": {},
   "source": [
    "#### Load default configuration and change parameters"
   ]
  },
  {
   "cell_type": "code",
   "execution_count": 3,
   "metadata": {},
   "outputs": [],
   "source": [
    "# based on lab 07 material\n",
    "ppo_config = ppo.DEFAULT_CONFIG.copy() # copy the default configuration\n",
    "\n",
    "# Choose framework\n",
    "ppo_config[\"framework\"] = \"torch\" # set pytorch\n",
    "\n",
    "# Environment setting\n",
    "ppo_config[\"env\"] = \"LunarLander-v2\" # LunarLander from OpenAI Gym\n",
    "\n",
    "# Training settings\n",
    "ppo_config[\"lr\"] = 0.001 # the learning rate\n",
    "# neural network architecture\n",
    "ppo_config[\"model\"] = {\n",
    "    \"fcnet_hiddens\": [32,32], # hidden layers and neurons\n",
    "    \"fcnet_activation\": \"linear\" # activation function\n",
    "}\n",
    "# Exploration Settings\n",
    "ppo_config[\"explore\"] = True\n",
    "ppo_config[\"exploration_config\"] = {\n",
    "    \"type\": \"StochasticSampling\"\n",
    "}\n",
    "# Evaluation Settings\n",
    "ppo_config[\"evaluation_duration\"] = 5\n",
    "ppo_config[\"evaluation_duration_unit\"] = \"episodes\"\n",
    "ppo_config[\"evaluation_num_workers\"] = 1\n",
    "ppo_config[\"evaluation_config\"] = {\n",
    "    \"render_env\": True,\n",
    "    \"explore\": False,\n",
    "}\n",
    "# Resource Settings\n",
    "ppo_config[\"num_gpus\"] = 0\n",
    "ppo_config[\"num_cpus_per_worker\"] = 1"
   ]
  },
  {
   "cell_type": "markdown",
   "metadata": {},
   "source": [
    "#### Train PPO Trainer"
   ]
  },
  {
   "cell_type": "code",
   "execution_count": 3,
   "metadata": {},
   "outputs": [
    {
     "name": "stderr",
     "output_type": "stream",
     "text": [
      "2022-04-20 20:12:27,962\tINFO services.py:1412 -- View the Ray dashboard at \u001b[1m\u001b[32mhttp://127.0.0.1:8265\u001b[39m\u001b[22m\n",
      "2022-04-20 20:12:31,569\tWARNING trainer.py:2347 -- You have specified 1 evaluation workers, but your `evaluation_interval` is None! Therefore, evaluation will not occur automatically with each call to `Trainer.train()`. Instead, you will have to call `Trainer.evaluate()` manually in order to trigger an evaluation run.\n",
      "2022-04-20 20:12:31,571\tINFO ppo.py:249 -- In multi-agent mode, policies will be optimized sequentially by the multi-GPU optimizer. Consider setting simple_optimizer=True if this doesn't work for you.\n",
      "2022-04-20 20:12:31,571\tINFO trainer.py:779 -- Current log_level is WARN. For more information, set 'log_level': 'INFO' / 'DEBUG' or use the -v and -vv flags.\n",
      "2022-04-20 20:12:32,908\tWARNING deprecation.py:45 -- DeprecationWarning: `simple_optimizer` has been deprecated. This will raise an error in the future!\n",
      "2022-04-20 20:12:32,908\tWARNING trainer.py:2347 -- You have specified 1 evaluation workers, but your `evaluation_interval` is None! Therefore, evaluation will not occur automatically with each call to `Trainer.train()`. Instead, you will have to call `Trainer.evaluate()` manually in order to trigger an evaluation run.\n",
      "2022-04-20 20:12:32,944\tWARNING util.py:55 -- Install gputil for GPU system monitoring.\n"
     ]
    },
    {
     "name": "stdout",
     "output_type": "stream",
     "text": [
      "-183.04556853923742\n",
      "-165.8394753462788\n",
      "-153.45996959954866\n",
      "-146.65110893172488\n",
      "-131.09945448903346\n",
      "-140.8902431263759\n",
      "-132.9459810350038\n",
      "-124.32291093312102\n",
      "-109.8856436322202\n",
      "-90.32204458139859\n",
      "-68.49888691471476\n",
      "-51.46861014658593\n",
      "-47.41790033276456\n",
      "-50.44706572335351\n",
      "-51.4560472220311\n",
      "-46.91478109893111\n",
      "-43.87973794767229\n",
      "-45.536730330573576\n",
      "-37.83821304486864\n",
      "-51.02406342112563\n",
      "-47.365202859936005\n",
      "-52.0823743006126\n",
      "-52.83816927775186\n",
      "-50.68179497300291\n",
      "-50.88423758379716\n",
      "-36.648375272751146\n",
      "-37.799695718245054\n",
      "-45.7301017177828\n",
      "-51.40944233853542\n",
      "-44.034784263889215\n",
      "-27.106279199932537\n",
      "-29.753629417095294\n",
      "-34.69300875551924\n",
      "-40.54422644242287\n",
      "-58.19031412400278\n",
      "-55.7576897576254\n",
      "-67.59906624168647\n",
      "-55.245746782858184\n",
      "-61.42868410698823\n",
      "-45.786434237032516\n",
      "-46.5938352389612\n",
      "-35.398563853021955\n",
      "-37.75025574222145\n",
      "-31.50348963070189\n",
      "-26.951574493635526\n",
      "-28.7807665419684\n",
      "-25.045941408783815\n",
      "-23.803775043072473\n",
      "-20.03284633082973\n",
      "-16.804886616995937\n"
     ]
    }
   ],
   "source": [
    "# based on lab 07 material\n",
    "# initialise ray\n",
    "ray.init()\n",
    "\n",
    "# create our RLlib Trainer.\n",
    "ppo_agent = ppo.PPOTrainer(config=ppo_config)\n",
    "\n",
    "# create list to store rewards\n",
    "ppo_avg_rewards = []\n",
    "\n",
    "# begin training\n",
    "for i in range(50):\n",
    "    # Perform one iteration of training the policy with DQN\n",
    "    result = ppo_agent.train()\n",
    "    #print(pretty_print(result))\n",
    "    print(result['episode_reward_mean'])\n",
    "    ppo_avg_rewards.append(result['episode_reward_mean'])"
   ]
  },
  {
   "cell_type": "markdown",
   "metadata": {},
   "source": [
    "#### Plot PPO Rewards"
   ]
  },
  {
   "cell_type": "code",
   "execution_count": 4,
   "metadata": {},
   "outputs": [
    {
     "data": {
      "image/png": "[encoded data removed]",
      "text/plain": [
       "<Figure size 432x288 with 1 Axes>"
      ]
     },
     "metadata": {
      "needs_background": "light"
     },
     "output_type": "display_data"
    }
   ],
   "source": [
    "# plot the rewards of agent 1\n",
    "plt.title(\"PPO Agent\")\n",
    "plt.xlabel(\"Episodes\")\n",
    "plt.ylabel(\"Average Rewards\")\n",
    "ppo_r=plt.plot(ppo_avg_rewards, 'b.')"
   ]
  },
  {
   "cell_type": "markdown",
   "metadata": {},
   "source": [
    "#### Play the Game and Evaluate"
   ]
  },
  {
   "cell_type": "code",
   "execution_count": 5,
   "metadata": {},
   "outputs": [
    {
     "data": {
      "text/plain": [
       "{'evaluation': {'episode_reward_max': -48.91031093714949,\n",
       "  'episode_reward_min': -196.96654140575785,\n",
       "  'episode_reward_mean': -85.2119269865243,\n",
       "  'episode_len_mean': 115.8,\n",
       "  'episode_media': {},\n",
       "  'episodes_this_iter': 5,\n",
       "  'policy_reward_min': {},\n",
       "  'policy_reward_max': {},\n",
       "  'policy_reward_mean': {},\n",
       "  'custom_metrics': {},\n",
       "  'hist_stats': {'episode_reward': [-196.96654140575785,\n",
       "    -50.732946942923014,\n",
       "    -48.91031093714949,\n",
       "    -65.94235703186516,\n",
       "    -63.50747861492594],\n",
       "   'episode_lengths': [249, 96, 80, 94, 60]},\n",
       "  'sampler_perf': {'mean_raw_obs_processing_ms': 0.16737066466232825,\n",
       "   'mean_inference_ms': 0.7357601461739375,\n",
       "   'mean_action_processing_ms': 0.037945961130076436,\n",
       "   'mean_env_wait_ms': 0.22187972890919655,\n",
       "   'mean_env_render_ms': 16.486269030077704},\n",
       "  'off_policy_estimator': {},\n",
       "  'timesteps_this_iter': 0}}"
      ]
     },
     "execution_count": 5,
     "metadata": {},
     "output_type": "execute_result"
    }
   ],
   "source": [
    "# evaluate agent for 5 episodes\n",
    "ppo_agent.evaluate()\n",
    "# shutdown ray\n",
    "ray.shutdown()\n",
    "#show agent_1 evaluation metrics\n",
    "ppo_agent.evaluation_metrics"
   ]
  },
  {
   "cell_type": "markdown",
   "metadata": {},
   "source": [
    "Training the agent on fifty iterations returned an average training reward of -16.80, up from an initial average training reward of -183. The plot shows the agent is learning and we expect the model will keep improving by increasing the number of training iterations. \n",
    "The agent evaluation on five episodes returned a mean episode reward of -85."
   ]
  },
  {
   "cell_type": "markdown",
   "metadata": {},
   "source": [
    "#### Architecture and hyperparameters optimization\n",
    "In the cell below we:\n",
    " - increased the number of iterations: from 50 to 200\n",
    " - added more hidden neurons to each layer: from 32 to 64\n",
    " - changed activation function: from linear to ReLU\n",
    " - decreased the learning rate: from 0.001 to 0.0001"
   ]
  },
  {
   "cell_type": "code",
   "execution_count": 2,
   "metadata": {},
   "outputs": [],
   "source": [
    "# based on lab 07 material\n",
    "ppo_config = ppo.DEFAULT_CONFIG.copy() # copy the default configuration\n",
    "\n",
    "# Choose framework\n",
    "ppo_config[\"framework\"] = \"torch\" # set pytorch\n",
    "\n",
    "# Environment setting\n",
    "ppo_config[\"env\"] = \"LunarLander-v2\" # LunarLander from OpenAI Gym\n",
    "\n",
    "# Training settings\n",
    "ppo_config[\"lr\"] = 0.0001 # the learning rate\n",
    "# neural network architecture\n",
    "ppo_config[\"model\"] = {\n",
    "    \"fcnet_hiddens\": [64,64], # hidden layers and neurons\n",
    "    \"fcnet_activation\": \"relu\" # activation function\n",
    "}\n",
    "# Exploration Settings\n",
    "ppo_config[\"explore\"] = True\n",
    "ppo_config[\"exploration_config\"] = {\n",
    "    \"type\": \"StochasticSampling\"\n",
    "}\n",
    "# Evaluation Settings\n",
    "ppo_config[\"evaluation_duration\"] = 5\n",
    "ppo_config[\"evaluation_duration_unit\"] = \"episodes\"\n",
    "ppo_config[\"evaluation_num_workers\"] = 1\n",
    "ppo_config[\"evaluation_config\"] = {\n",
    "    \"render_env\": True,\n",
    "    \"explore\": False,\n",
    "}\n",
    "# Resource Settings\n",
    "ppo_config[\"num_gpus\"] = 0\n",
    "ppo_config[\"num_cpus_per_worker\"] = 1"
   ]
  },
  {
   "cell_type": "markdown",
   "metadata": {},
   "source": [
    "#### Training the PPO Agent"
   ]
  },
  {
   "cell_type": "code",
   "execution_count": 3,
   "metadata": {},
   "outputs": [
    {
     "name": "stderr",
     "output_type": "stream",
     "text": [
      "2022-04-20 20:35:56,861\tINFO services.py:1412 -- View the Ray dashboard at \u001b[1m\u001b[32mhttp://127.0.0.1:8265\u001b[39m\u001b[22m\n",
      "2022-04-20 20:35:59,413\tWARNING trainer.py:2347 -- You have specified 1 evaluation workers, but your `evaluation_interval` is None! Therefore, evaluation will not occur automatically with each call to `Trainer.train()`. Instead, you will have to call `Trainer.evaluate()` manually in order to trigger an evaluation run.\n",
      "2022-04-20 20:35:59,415\tINFO ppo.py:249 -- In multi-agent mode, policies will be optimized sequentially by the multi-GPU optimizer. Consider setting simple_optimizer=True if this doesn't work for you.\n",
      "2022-04-20 20:35:59,416\tINFO trainer.py:779 -- Current log_level is WARN. For more information, set 'log_level': 'INFO' / 'DEBUG' or use the -v and -vv flags.\n",
      "2022-04-20 20:36:00,605\tWARNING deprecation.py:45 -- DeprecationWarning: `simple_optimizer` has been deprecated. This will raise an error in the future!\n",
      "2022-04-20 20:36:00,606\tWARNING trainer.py:2347 -- You have specified 1 evaluation workers, but your `evaluation_interval` is None! Therefore, evaluation will not occur automatically with each call to `Trainer.train()`. Instead, you will have to call `Trainer.evaluate()` manually in order to trigger an evaluation run.\n",
      "2022-04-20 20:36:00,642\tWARNING util.py:55 -- Install gputil for GPU system monitoring.\n"
     ]
    },
    {
     "name": "stdout",
     "output_type": "stream",
     "text": [
      "-197.21366791781733\n",
      "-184.94749155126982\n",
      "-162.4880308185099\n",
      "-136.74975010776453\n",
      "-121.39607656610356\n",
      "-110.6031179518207\n",
      "-97.85391948953007\n",
      "-72.41645864476261\n",
      "-73.3090285307518\n",
      "-68.7427816808708\n",
      "-58.19292857901161\n",
      "-50.279543553578534\n",
      "-45.726307422059854\n",
      "-37.2915672877457\n",
      "-33.603718778114214\n",
      "-28.4738301531513\n",
      "-22.807589630562163\n",
      "-22.088263530286472\n",
      "-13.250492337909892\n",
      "-5.782938846276974\n",
      "2.4914114412346904\n",
      "6.7738415089066155\n",
      "18.115394305060313\n",
      "26.661643764143697\n",
      "38.09131652635957\n",
      "52.590692722752244\n",
      "75.78862418665392\n",
      "93.6191031657765\n",
      "112.15827228526534\n",
      "128.17954998078278\n",
      "150.54705199450092\n",
      "161.69398714005794\n",
      "162.1107733427962\n",
      "167.27299569946845\n",
      "179.6378932371005\n",
      "168.9153461567753\n",
      "176.05437797868188\n",
      "177.56676639272973\n",
      "180.899166011306\n",
      "184.8274047130174\n",
      "196.8442527245489\n",
      "201.92882112905926\n",
      "196.70421967300442\n",
      "203.69519651374085\n",
      "209.43030961157638\n",
      "208.33069442204666\n",
      "217.69161063506442\n",
      "221.4768854472209\n",
      "223.7180754801493\n",
      "219.7321988254545\n",
      "228.0130977287696\n",
      "229.5566703380244\n",
      "227.13443268099937\n",
      "227.7450674128464\n",
      "225.6261295541008\n",
      "225.5882005383353\n",
      "220.6489035812464\n",
      "229.33965642293342\n",
      "228.23301017105987\n",
      "227.72654000161216\n",
      "233.5438978616678\n",
      "235.18736789337584\n",
      "233.40194715786242\n",
      "236.03937454563427\n",
      "240.42114814131793\n",
      "243.98762755746938\n",
      "250.13235754955855\n",
      "249.3782249985487\n",
      "250.0089992455786\n",
      "251.53789077376513\n",
      "244.41177897603234\n",
      "243.42585132641875\n",
      "231.2246374686544\n",
      "224.36008057973007\n",
      "222.65441995661826\n",
      "218.8905170490888\n",
      "209.8855107722831\n",
      "207.24555322974516\n",
      "197.63382195437666\n",
      "197.5222659782326\n",
      "201.10880788066436\n",
      "196.5730661745098\n",
      "195.25458516678214\n",
      "196.95659259954738\n",
      "201.88772545118343\n",
      "208.83051853454484\n",
      "211.11889042302153\n",
      "216.87878230895487\n",
      "220.35713035019336\n",
      "222.00756505933236\n",
      "218.20440725410586\n",
      "214.9352578415801\n",
      "211.9755648565371\n",
      "209.535048596104\n",
      "197.0043059927224\n",
      "196.73565161859034\n",
      "197.18365836130278\n",
      "194.40387521643098\n",
      "195.0628252075818\n",
      "198.001449821235\n",
      "194.3497898666953\n",
      "202.86498811783105\n",
      "210.04281223066428\n",
      "205.05157775320615\n",
      "212.1777423540008\n",
      "210.18576416631674\n",
      "210.3068481015036\n",
      "207.792881878037\n",
      "207.44550686835865\n",
      "204.0349073148542\n",
      "198.2281028067164\n",
      "204.44296545386854\n",
      "203.9784795039259\n",
      "212.99490159495778\n",
      "221.40091566691677\n",
      "222.40517832229426\n",
      "220.01979282711488\n",
      "226.35372409852738\n",
      "228.4950956709154\n",
      "232.0120100993407\n",
      "234.51193634408446\n",
      "236.93470237442727\n",
      "235.56275873052778\n",
      "243.22315518237545\n",
      "232.20513631572123\n",
      "230.2157032252234\n",
      "231.37625770467363\n",
      "229.6782522500494\n",
      "228.92064042125563\n",
      "224.24120670590116\n",
      "231.6168869703373\n",
      "234.23508128564387\n",
      "227.0594703809386\n",
      "227.37894934173582\n",
      "225.43460689994157\n",
      "231.23580234758938\n",
      "226.7989913434838\n",
      "234.5426607732786\n",
      "234.93047458687712\n",
      "243.6497897392551\n",
      "240.94075988543472\n",
      "239.69436894294486\n",
      "235.82054416686557\n",
      "239.62554379540606\n",
      "242.2066789285332\n",
      "240.10621789121714\n",
      "238.675493295146\n",
      "236.44818752773946\n",
      "237.97204990429498\n",
      "245.20134642881138\n",
      "241.5455170760054\n",
      "239.92754177354186\n",
      "243.97226248887492\n",
      "248.35020168251708\n",
      "251.11580972456343\n",
      "253.2292146047913\n",
      "251.5934530023598\n",
      "259.6664114773828\n",
      "259.47074128580533\n",
      "258.0832668664926\n",
      "254.78913226996502\n",
      "256.63710925756635\n",
      "257.82307868503864\n",
      "255.3148607696738\n",
      "255.36590644547243\n",
      "253.8690990691766\n",
      "253.65041885154776\n",
      "254.9732382094283\n",
      "257.1959177691289\n",
      "255.13195785290364\n",
      "252.17235318771523\n",
      "254.1822640619529\n",
      "252.0526308947984\n",
      "250.2927732223405\n",
      "253.43192535312318\n",
      "253.43812833008647\n",
      "254.4122135436679\n",
      "257.9180146051916\n",
      "257.6731928256974\n",
      "262.7223439821329\n",
      "264.869431738095\n",
      "268.06586510373137\n",
      "267.22558279437845\n",
      "267.80007218949106\n",
      "264.2833971292542\n",
      "262.5287272354645\n",
      "260.79295378781865\n",
      "256.5499045693005\n",
      "255.73216485493674\n",
      "251.62774194182583\n",
      "249.74288461492407\n",
      "247.9323751218445\n",
      "244.43342377905373\n",
      "244.21049206935243\n",
      "241.82810002297146\n",
      "242.66729838308254\n",
      "241.60129232051648\n",
      "243.93444267662\n",
      "244.9354280337674\n",
      "248.96321322577595\n"
     ]
    }
   ],
   "source": [
    "# based on lab 07 material\n",
    "# initialise ray\n",
    "ray.init()\n",
    "\n",
    "# create our RLlib Trainer.\n",
    "ppo_agent = ppo.PPOTrainer(config=ppo_config)\n",
    "\n",
    "# create list to store rewards\n",
    "ppo_avg_rewards = []\n",
    "\n",
    "# begin training\n",
    "for i in range(200):\n",
    "    # Perform one iteration of training the policy with DQN\n",
    "    result = ppo_agent.train()\n",
    "    #print(pretty_print(result))\n",
    "    print(result['episode_reward_mean'])\n",
    "    ppo_avg_rewards.append(result['episode_reward_mean'])"
   ]
  },
  {
   "cell_type": "markdown",
   "metadata": {},
   "source": [
    "#### Plot PPO Rewards"
   ]
  },
  {
   "cell_type": "code",
   "execution_count": 4,
   "metadata": {},
   "outputs": [
    {
     "data": {
      "image/png": "[encoded data removed]",
      "text/plain": [
       "<Figure size 432x288 with 1 Axes>"
      ]
     },
     "metadata": {
      "needs_background": "light"
     },
     "output_type": "display_data"
    }
   ],
   "source": [
    "# plot the rewards of agent 1\n",
    "plt.title(\"PPO Agent\")\n",
    "plt.xlabel(\"Episodes\")\n",
    "plt.ylabel(\"Average Rewards\")\n",
    "ppo_r=plt.plot(ppo_avg_rewards, 'b.')"
   ]
  },
  {
   "cell_type": "markdown",
   "metadata": {},
   "source": [
    "#### Play the Game and Evaluate"
   ]
  },
  {
   "cell_type": "code",
   "execution_count": 5,
   "metadata": {},
   "outputs": [
    {
     "data": {
      "text/plain": [
       "{'evaluation': {'episode_reward_max': 284.8348203507567,\n",
       "  'episode_reward_min': 163.2844277081189,\n",
       "  'episode_reward_mean': 250.58314113528596,\n",
       "  'episode_len_mean': 418.2,\n",
       "  'episode_media': {},\n",
       "  'episodes_this_iter': 5,\n",
       "  'policy_reward_min': {},\n",
       "  'policy_reward_max': {},\n",
       "  'policy_reward_mean': {},\n",
       "  'custom_metrics': {},\n",
       "  'hist_stats': {'episode_reward': [284.8348203507567,\n",
       "    163.2844277081189,\n",
       "    259.8906202710482,\n",
       "    281.80117146538663,\n",
       "    263.10466588111933],\n",
       "   'episode_lengths': [275, 1000, 232, 231, 353]},\n",
       "  'sampler_perf': {'mean_raw_obs_processing_ms': 0.15922919286140746,\n",
       "   'mean_inference_ms': 0.8781022369063833,\n",
       "   'mean_action_processing_ms': 0.03863782773282286,\n",
       "   'mean_env_wait_ms': 0.23275898701830072,\n",
       "   'mean_env_render_ms': 15.583472201746691},\n",
       "  'off_policy_estimator': {},\n",
       "  'timesteps_this_iter': 0}}"
      ]
     },
     "execution_count": 5,
     "metadata": {},
     "output_type": "execute_result"
    }
   ],
   "source": [
    "# evaluate agent for 5 episodes\n",
    "ppo_agent.evaluate()\n",
    "# shutdown ray\n",
    "ray.shutdown()\n",
    "#show agent_1 evaluation metrics\n",
    "ppo_agent.evaluation_metrics"
   ]
  },
  {
   "cell_type": "markdown",
   "metadata": {},
   "source": [
    "#### Conclusions"
   ]
  },
  {
   "cell_type": "markdown",
   "metadata": {},
   "source": [
    "The optimized model resulted in a much more effective PPO Agent. Over just 200 training iterations, the model in evaluation reached an average training rewards of 250 points. \n",
    "The smaller learning rate helped achieve a steadier training, and the higher number of hidden neurons perfected the agent's movement, hence generated higher rewards. \n",
    "The model in training plateaud after about 75 games (as shown in the rewards plot), indicating that the training could be early-stoppped and the agent successfuly trained with less than 100 training iterations. \n",
    "In evaluation, the agent collected a mean episode reward of 250 points over five episodes, a nearly maximum score, and result of an agent that carried out an almost perfect landing (right in the middle of the goal) at each attempt."
   ]
  }
 ],
 "metadata": {
  "interpreter": {
   "hash": "9285b2cc289002d68e5229deff99f56373611dfe6f7a22153195c44f04bc854f"
  },
  "kernelspec": {
   "display_name": "Python 3 (ipykernel)",
   "language": "python",
   "name": "python3"
  },
  "language_info": {
   "codemirror_mode": {
    "name": "ipython",
    "version": 3
   },
   "file_extension": ".py",
   "mimetype": "text/x-python",
   "name": "python",
   "nbconvert_exporter": "python",
   "pygments_lexer": "ipython3",
   "version": "3.8.12"
  }
 },
 "nbformat": 4,
 "nbformat_minor": 2
}
